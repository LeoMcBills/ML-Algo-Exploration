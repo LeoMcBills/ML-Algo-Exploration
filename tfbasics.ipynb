{
  "nbformat": 4,
  "nbformat_minor": 0,
  "metadata": {
    "colab": {
      "provenance": [],
      "authorship_tag": "ABX9TyOZHqDu5hiHQEnNo0woe3xr",
      "include_colab_link": true
    },
    "kernelspec": {
      "name": "python3",
      "display_name": "Python 3"
    },
    "language_info": {
      "name": "python"
    }
  },
  "cells": [
    {
      "cell_type": "markdown",
      "metadata": {
        "id": "view-in-github",
        "colab_type": "text"
      },
      "source": [
        "<a href=\"https://colab.research.google.com/github/LeoMcBills/ML-Algo-Exploration/blob/main/tfbasics.ipynb\" target=\"_parent\"><img src=\"https://colab.research.google.com/assets/colab-badge.svg\" alt=\"Open In Colab\"/></a>"
      ]
    },
    {
      "cell_type": "markdown",
      "source": [
        "# Welcome to Tensorflow basics\n",
        "\n",
        "- Casting\n",
        "- Initialization\n",
        "- Indexing\n",
        "- Broadcasting\n",
        "- Algebraic Operations\n",
        "- Matrix Operations\n",
        "- Commonly used functions in machine learning\n",
        "- Ragged tensors\n",
        "- Sparse tensors\n",
        "- String tensors\n",
        "\n",
        "The above is what is going to be demonstrated in this notebook"
      ],
      "metadata": {
        "id": "r-t0Rg01ZlFs"
      }
    },
    {
      "cell_type": "markdown",
      "source": [
        "# What are tensors?\n",
        "- Tensors are multi-dimensional arrays\n",
        "\n",
        "# What is an Array?\n",
        "- An array is an ordered arrangement of numbers"
      ],
      "metadata": {
        "id": "QZjbA4Xnabyx"
      }
    },
    {
      "cell_type": "markdown",
      "source": [
        "# Introduction to <b>Initializing and casting</b> of tensors  \n",
        "## Dimensions of tensors  \n",
        "- Zero dimension e.g 8\n",
        "- One dimension e.g [4, 3, 2]\n",
        "- two dimension e.g [[5, 3, 5], [4, 2, 6], [3, 2, 7]]\n",
        "- three dimension e.g [[[4, 2, 5], [2, 3, 4]], [[6, 3, 2], [9, 0, 3]]]"
      ],
      "metadata": {
        "id": "CbB9qFzZa9ib"
      }
    },
    {
      "cell_type": "code",
      "execution_count": null,
      "metadata": {
        "id": "dtelH3-iZU4E"
      },
      "outputs": [],
      "source": []
    }
  ]
}