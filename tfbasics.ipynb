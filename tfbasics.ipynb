{
  "nbformat": 4,
  "nbformat_minor": 0,
  "metadata": {
    "colab": {
      "provenance": [],
      "authorship_tag": "ABX9TyMFufRc1YXnAAQr3x0Pj3JS",
      "include_colab_link": true
    },
    "kernelspec": {
      "name": "python3",
      "display_name": "Python 3"
    },
    "language_info": {
      "name": "python"
    }
  },
  "cells": [
    {
      "cell_type": "markdown",
      "metadata": {
        "id": "view-in-github",
        "colab_type": "text"
      },
      "source": [
        "<a href=\"https://colab.research.google.com/github/LeoMcBills/ML-Algo-Exploration/blob/main/tfbasics.ipynb\" target=\"_parent\"><img src=\"https://colab.research.google.com/assets/colab-badge.svg\" alt=\"Open In Colab\"/></a>"
      ]
    },
    {
      "cell_type": "markdown",
      "source": [
        "# Welcome to Tensorflow basics\n",
        "\n",
        "- Casting\n",
        "- Initialization\n",
        "- Indexing\n",
        "- Broadcasting\n",
        "- Algebraic Operations\n",
        "- Matrix Operations\n",
        "- Commonly used functions in machine learning\n",
        "- Ragged tensors\n",
        "- Sparse tensors\n",
        "- String tensors\n",
        "\n",
        "The above is what is going to be demonstrated in this notebook"
      ],
      "metadata": {
        "id": "r-t0Rg01ZlFs"
      }
    },
    {
      "cell_type": "markdown",
      "source": [
        "# What are tensors?\n",
        "- Tensors are multi-dimensional arrays\n",
        "\n",
        "# What is an Array?\n",
        "- An array is an ordered arrangement of numbers"
      ],
      "metadata": {
        "id": "QZjbA4Xnabyx"
      }
    },
    {
      "cell_type": "markdown",
      "source": [
        "# Introduction to <b>Initializing and casting</b> of tensors  \n",
        "## Dimensions of tensors  \n",
        "- Zero dimension e.g 8\n",
        "- One dimension e.g [4, 3, 2]\n",
        "- two dimension e.g [[5, 3, 5], [4, 2, 6], [3, 2, 7]]\n",
        "- three dimension e.g [[[4, 2, 5], [2, 3, 4]], [[6, 3, 2], [9, 0, 3]]]"
      ],
      "metadata": {
        "id": "CbB9qFzZa9ib"
      }
    },
    {
      "cell_type": "code",
      "execution_count": 1,
      "metadata": {
        "id": "dtelH3-iZU4E"
      },
      "outputs": [],
      "source": [
        "import tensorflow as tf\n",
        "import numpy as np"
      ]
    },
    {
      "cell_type": "code",
      "source": [
        "zeroDtensor = tf.constant(8)\n",
        "print(zeroDtensor)\n",
        "print(\"This is the shape of a zero dimensional tensor:\",zeroDtensor.shape)\n",
        "\n",
        "print()\n",
        "\n",
        "oneDtensor = tf.constant([4, 3, 2])\n",
        "print(oneDtensor)\n",
        "print(\"This is the shape of a one dimensional tensor:\", oneDtensor.shape)\n",
        "\n",
        "print()\n",
        "\n",
        "twoDtensor = tf.constant([[5, 3, 5],\n",
        "                          [4, 2, 6],\n",
        "                          [3, 2, 7],\n",
        "                          ])\n",
        "print(twoDtensor)\n",
        "print(\"This the shape of a two dimensional tensor:\", twoDtensor.shape)\n",
        "\n",
        "print()\n",
        "\n",
        "threeDtensor = tf.constant([[[5, 3, 5],\n",
        "                          [4, 2, 6],\n",
        "                          [3, 2, 7]],\n",
        "                          [[5, 3, 5],\n",
        "                          [4, 2, 6],\n",
        "                          [3, 2, 7]]\n",
        "                          ])\n",
        "print(threeDtensor)\n",
        "print(\"This is the shape of a three dimensional tensor:\", threeDtensor.shape)"
      ],
      "metadata": {
        "colab": {
          "base_uri": "https://localhost:8080/"
        },
        "id": "hDt0b-e9c19v",
        "outputId": "12b5dfdb-7112-40c8-fc10-b35786a15e2c"
      },
      "execution_count": 7,
      "outputs": [
        {
          "output_type": "stream",
          "name": "stdout",
          "text": [
            "tf.Tensor(8, shape=(), dtype=int32)\n",
            "This is the shape of a zero dimensional tensor: ()\n",
            "\n",
            "tf.Tensor([4 3 2], shape=(3,), dtype=int32)\n",
            "This is the shape of a one dimensional tensor: (3,)\n",
            "\n",
            "tf.Tensor(\n",
            "[[5 3 5]\n",
            " [4 2 6]\n",
            " [3 2 7]], shape=(3, 3), dtype=int32)\n",
            "This the shape of a two dimensional tensor: (3, 3)\n",
            "\n",
            "tf.Tensor(\n",
            "[[[5 3 5]\n",
            "  [4 2 6]\n",
            "  [3 2 7]]\n",
            "\n",
            " [[5 3 5]\n",
            "  [4 2 6]\n",
            "  [3 2 7]]], shape=(2, 3, 3), dtype=int32)\n",
            "This is the shape of a three dimensional tensor: (2, 3, 3)\n"
          ]
        }
      ]
    },
    {
      "cell_type": "code",
      "source": [],
      "metadata": {
        "id": "qrYXqdiVdDOr"
      },
      "execution_count": null,
      "outputs": []
    }
  ]
}