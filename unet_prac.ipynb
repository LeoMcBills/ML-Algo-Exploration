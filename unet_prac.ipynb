{
  "nbformat": 4,
  "nbformat_minor": 0,
  "metadata": {
    "colab": {
      "provenance": [],
      "gpuType": "T4",
      "authorship_tag": "ABX9TyORIJbnPB6MY0BeH1k6wFgc",
      "include_colab_link": true
    },
    "kernelspec": {
      "name": "python3",
      "display_name": "Python 3"
    },
    "language_info": {
      "name": "python"
    },
    "accelerator": "GPU"
  },
  "cells": [
    {
      "cell_type": "markdown",
      "metadata": {
        "id": "view-in-github",
        "colab_type": "text"
      },
      "source": [
        "<a href=\"https://colab.research.google.com/github/mbubesa/ML-Algo-Exploration/blob/main/unet_prac.ipynb\" target=\"_parent\"><img src=\"https://colab.research.google.com/assets/colab-badge.svg\" alt=\"Open In Colab\"/></a>"
      ]
    },
    {
      "cell_type": "markdown",
      "source": [
        "# Import modules"
      ],
      "metadata": {
        "id": "AoGqZD9ymXRa"
      }
    },
    {
      "cell_type": "code",
      "source": [
        "import torch\n",
        "from torch import nn\n",
        "import torchvision.transforms.functional"
      ],
      "metadata": {
        "id": "Px_YFzbpXf9m"
      },
      "execution_count": 1,
      "outputs": []
    },
    {
      "cell_type": "code",
      "source": [
        "class DoubleConvolution(nn.Module):\n",
        "  def __init__(self, in_channels: int, out_channels: int):\n",
        "    super().__init__()\n",
        "    self.first = nn.Conv2d(in_channels, out_channels, kernel_size=3, padding=1)\n",
        "    self.act1 = nn.ReLU()\n",
        "\n",
        "    self.second = nn.Conv2d(out_channels, out_channels, kernel_size=3, padding=1)\n",
        "    self.act2 = nn.ReLU()\n",
        "\n",
        "    def forward(self, x: torch.tensor):\n",
        "      x = self.first(x)\n",
        "      x = self.act1(x)\n",
        "\n",
        "      x = self.second(x)\n",
        "      return self.act2(x)"
      ],
      "metadata": {
        "id": "_IyeTTSomVsE"
      },
      "execution_count": 2,
      "outputs": []
    },
    {
      "cell_type": "code",
      "source": [
        "print(\"Leo is the greatest person living\")"
      ],
      "metadata": {
        "colab": {
          "base_uri": "https://localhost:8080/"
        },
        "id": "H7jQZV4ZpMiD",
        "outputId": "30fe819a-e42f-4a32-875a-17a99213d866"
      },
      "execution_count": 3,
      "outputs": [
        {
          "output_type": "stream",
          "name": "stdout",
          "text": [
            "Leo is the greatest person living\n"
          ]
        }
      ]
    },
    {
      "cell_type": "markdown",
      "source": [
        "# Down Sampling"
      ],
      "metadata": {
        "id": "Auf1MlVAuANg"
      }
    },
    {
      "cell_type": "code",
      "source": [
        "class DownSample(nn.Module):\n",
        "  def __init__(self):\n",
        "    super().__init__()\n",
        "\n",
        "    self.pool = nn.MaxPool2d(2)\n",
        "\n",
        "  def forward(self, x: torch.tensor):\n",
        "    return self.pool(x)"
      ],
      "metadata": {
        "id": "7ds04m5Iq-Q0"
      },
      "execution_count": 5,
      "outputs": []
    },
    {
      "cell_type": "markdown",
      "source": [
        "# Upsampling"
      ],
      "metadata": {
        "id": "beH9nncHuEN5"
      }
    },
    {
      "cell_type": "code",
      "source": [
        "class UpSample(nn.Module):\n",
        "  def __init__(self):\n",
        "    super().__init__()\n",
        "    self.up = nn.ConvTranspose2d(in_channels, out_channels, kernel_size, strides=2)\n",
        "\n",
        "  def forward(self, x: torch.tensor):\n",
        "    return self.up(x)"
      ],
      "metadata": {
        "id": "EigE4hQFtONw"
      },
      "execution_count": 7,
      "outputs": []
    },
    {
      "cell_type": "code",
      "source": [
        "class CropAndConcat(nn.Module):\n",
        "  def __init__(self, x: torch.tensor, contracting_x: torch.tensor):\n",
        "    contracting_x = torchvision.transforms.functional.center_crop(contracting_x, [x.shape[2], x.shape[3]])\n",
        "    x = torch.cat([x, contracting_x], dim=1)\n",
        "    return x"
      ],
      "metadata": {
        "id": "u5LvZ9L3vJBC"
      },
      "execution_count": 11,
      "outputs": []
    },
    {
      "cell_type": "markdown",
      "source": [
        "# The Unet"
      ],
      "metadata": {
        "id": "qWsMoUjV41Pv"
      }
    },
    {
      "cell_type": "code",
      "source": [
        "class Unet(nn.Module):\n",
        "  def __init__(self, in_channels: int, out_channels: int):\n",
        "    super().__init__()\n",
        "\n",
        "    self.down_conv = nn.ModuleList([DoubleConvolution(i, o) for i, o in\n",
        "                                  [(in_channels, 64), (64, 128), (128, 256), (256, 512)]])\n",
        "    self.down_sample = nn.ModuleList([DownSample() for _ in range(4)])\n",
        "    self.down_sample = nn.ModuleList([DownSample() for _ in range(4)])\n",
        "    self.up_sample = nn.ModuleList([UpSample(i, o) for i, o in\n",
        "                                  [(1024, 512), (512, 256), (256, 128), (128, 64)]])\n",
        "    self.up_conv = nn.ModuleList([DoubleConvolution(i, o) for i, o in\n",
        "                                 [(1024, 512), (512, 256), (256, 128), (128, 64)]])\n",
        "    self.concat = nn.ModuleList([CropAndConcat() for _ in range(4)])\n",
        "    self.final_conv = nn.Conv2d(64, out_channels, kernel_size=1)\n",
        "\n",
        "  def forward(self, x: torch.Tensor):\n",
        "    pass_through = []\n",
        "    for i in range(len(self.down_conv)):\n",
        "      x = self.down_conv[i](x)\n",
        "      pass_through.append(x)\n",
        "      x = self.down_sample[i](x)\n",
        "\n",
        "    x = self.middle_conv(x)\n",
        "    for i in range(len(self.up_conv)):\n",
        "      x = self.up_sample[i](x)\n",
        "      x = self.concat[i](x, pass_through.pop())\n",
        "      x = self.up_conv[i](x)\n",
        "\n",
        "    x = self.final_conv(x)\n",
        "    return x"
      ],
      "metadata": {
        "id": "4_f0fDOEytzh"
      },
      "execution_count": 12,
      "outputs": []
    },
    {
      "cell_type": "code",
      "source": [],
      "metadata": {
        "id": "a1bUAnfp7PLs"
      },
      "execution_count": null,
      "outputs": []
    }
  ]
}