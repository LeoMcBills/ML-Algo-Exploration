{
  "nbformat": 4,
  "nbformat_minor": 0,
  "metadata": {
    "colab": {
      "provenance": [],
      "gpuType": "T4",
      "authorship_tag": "ABX9TyPkiz/dLIboYh61sfEtkJ8t",
      "include_colab_link": true
    },
    "kernelspec": {
      "name": "python3",
      "display_name": "Python 3"
    },
    "language_info": {
      "name": "python"
    },
    "accelerator": "GPU"
  },
  "cells": [
    {
      "cell_type": "markdown",
      "metadata": {
        "id": "view-in-github",
        "colab_type": "text"
      },
      "source": [
        "<a href=\"https://colab.research.google.com/github/LeoMcBills/ML-Algo-Exploration/blob/main/prac12.ipynb\" target=\"_parent\"><img src=\"https://colab.research.google.com/assets/colab-badge.svg\" alt=\"Open In Colab\"/></a>"
      ]
    },
    {
      "cell_type": "markdown",
      "source": [
        "# Characteristics of tensors\n",
        "- nd-array\n",
        "- GPU support\n",
        "- Computational graph / Backpropagation\n",
        "- Immutable"
      ],
      "metadata": {
        "id": "OgHNQVWIpX4t"
      }
    },
    {
      "cell_type": "code",
      "execution_count": 2,
      "metadata": {
        "id": "odNOlYk4nAWK"
      },
      "outputs": [],
      "source": [
        "import os\n",
        "os.environ[\"TF_CPP_MIN_LOG_LEVEL\"] = \"2\"\n",
        "import tensorflow as tf"
      ]
    },
    {
      "cell_type": "markdown",
      "source": [
        "## Create a tensor"
      ],
      "metadata": {
        "id": "B-1HX46mrXaT"
      }
    },
    {
      "cell_type": "code",
      "source": [
        "x = tf.constant(4, shape=(1,1), dtype=tf.float32)"
      ],
      "metadata": {
        "id": "QSEq6Rnxqc8e"
      },
      "execution_count": 7,
      "outputs": []
    },
    {
      "cell_type": "code",
      "source": [
        "print(x)"
      ],
      "metadata": {
        "colab": {
          "base_uri": "https://localhost:8080/"
        },
        "id": "SGo1JqDQqmYE",
        "outputId": "fac0cefc-a930-4261-cb04-9ffb1510a630"
      },
      "execution_count": 8,
      "outputs": [
        {
          "output_type": "stream",
          "name": "stdout",
          "text": [
            "tf.Tensor([[4.]], shape=(1, 1), dtype=float32)\n"
          ]
        }
      ]
    }
  ]
}