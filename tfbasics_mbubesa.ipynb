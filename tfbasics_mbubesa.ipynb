{
  "nbformat": 4,
  "nbformat_minor": 0,
  "metadata": {
    "colab": {
      "provenance": [],
      "authorship_tag": "ABX9TyOUZuhF3+Lq4OMr7jjKTSsC",
      "include_colab_link": true
    },
    "kernelspec": {
      "name": "python3",
      "display_name": "Python 3"
    },
    "language_info": {
      "name": "python"
    }
  },
  "cells": [
    {
      "cell_type": "markdown",
      "metadata": {
        "id": "view-in-github",
        "colab_type": "text"
      },
      "source": [
        "<a href=\"https://colab.research.google.com/github/LeoMcBills/ML-Algo-Exploration/blob/main/tfbasics_mbubesa.ipynb\" target=\"_parent\"><img src=\"https://colab.research.google.com/assets/colab-badge.svg\" alt=\"Open In Colab\"/></a>"
      ]
    },
    {
      "cell_type": "markdown",
      "source": [
        "# Welcome to Tensorflow basics\n",
        "\n",
        "- Casting\n",
        "- Initialization\n",
        "- Indexing\n",
        "- Broadcasting\n",
        "- Algebraic Operations\n",
        "- Matrix Operations\n",
        "- Commonly used functions in machine learning\n",
        "- Ragged tensors\n",
        "- Sparse tensors\n",
        "- String tensors\n",
        "\n",
        "The above is what is going to be demonstrated in this notebook"
      ],
      "metadata": {
        "id": "r-t0Rg01ZlFs"
      }
    },
    {
      "cell_type": "markdown",
      "source": [
        "# What are tensors?\n",
        "- Tensors are multi-dimensional arrays\n",
        "\n",
        "# What is an Array?\n",
        "- An array is an ordered arrangement of numbers"
      ],
      "metadata": {
        "id": "QZjbA4Xnabyx"
      }
    },
    {
      "cell_type": "markdown",
      "source": [
        "# Introduction to <b>Initializing and casting</b> of tensors  \n",
        "## Dimensions of tensors  \n",
        "- Zero dimension e.g 8\n",
        "- One dimension e.g [4, 3, 2]\n",
        "- two dimension e.g [[5, 3, 5], [4, 2, 6], [3, 2, 7]]\n",
        "- three dimension e.g [[[4, 2, 5], [2, 3, 4]], [[6, 3, 2], [9, 0, 3]]]"
      ],
      "metadata": {
        "id": "CbB9qFzZa9ib"
      }
    },
    {
      "cell_type": "code",
      "execution_count": 1,
      "metadata": {
        "id": "dtelH3-iZU4E"
      },
      "outputs": [],
      "source": [
        "import tensorflow as tf\n",
        "import numpy as np"
      ]
    },
    {
      "cell_type": "code",
      "source": [
        "zeroDtensor = tf.constant(8)\n",
        "print(zeroDtensor)\n",
        "print(\"This is the shape of a zero dimensional tensor:\",zeroDtensor.shape)\n",
        "\n",
        "print()\n",
        "\n",
        "oneDtensor = tf.constant([4, 3, 2])\n",
        "print(oneDtensor)\n",
        "print(\"This is the shape of a one dimensional tensor:\", oneDtensor.shape)\n",
        "\n",
        "print()\n",
        "\n",
        "twoDtensor = tf.constant([[5, 3, 5],\n",
        "                          [4, 2, 6],\n",
        "                          [3, 2, 7],\n",
        "                          ])\n",
        "print(twoDtensor)\n",
        "print(\"This the shape of a two dimensional tensor:\", twoDtensor.shape)\n",
        "\n",
        "print()\n",
        "\n",
        "threeDtensor = tf.constant([[[5, 3, 5],\n",
        "                          [4, 2, 6],\n",
        "                          [3, 2, 7]],\n",
        "                          [[5, 3, 5],\n",
        "                          [4, 2, 6],\n",
        "                          [3, 2, 7]]\n",
        "                          ])\n",
        "print(threeDtensor)\n",
        "print(\"This is the shape of a three dimensional tensor:\", threeDtensor.shape)"
      ],
      "metadata": {
        "colab": {
          "base_uri": "https://localhost:8080/"
        },
        "id": "hDt0b-e9c19v",
        "outputId": "2ddf8bad-595b-4d3e-c191-4fc794cbff61"
      },
      "execution_count": 2,
      "outputs": [
        {
          "output_type": "stream",
          "name": "stdout",
          "text": [
            "tf.Tensor(8, shape=(), dtype=int32)\n",
            "This is the shape of a zero dimensional tensor: ()\n",
            "\n",
            "tf.Tensor([4 3 2], shape=(3,), dtype=int32)\n",
            "This is the shape of a one dimensional tensor: (3,)\n",
            "\n",
            "tf.Tensor(\n",
            "[[5 3 5]\n",
            " [4 2 6]\n",
            " [3 2 7]], shape=(3, 3), dtype=int32)\n",
            "This the shape of a two dimensional tensor: (3, 3)\n",
            "\n",
            "tf.Tensor(\n",
            "[[[5 3 5]\n",
            "  [4 2 6]\n",
            "  [3 2 7]]\n",
            "\n",
            " [[5 3 5]\n",
            "  [4 2 6]\n",
            "  [3 2 7]]], shape=(2, 3, 3), dtype=int32)\n",
            "This is the shape of a three dimensional tensor: (2, 3, 3)\n"
          ]
        }
      ]
    },
    {
      "cell_type": "code",
      "source": [
        "# the following returns the number of dimensions of a given tensor\n",
        "print(\"This is a\", zeroDtensor.ndim, \"dimensional tensor.\")\n",
        "print(\"This is a\", oneDtensor.ndim, \"dimensional tensor.\")\n",
        "print(\"This is a\", twoDtensor.ndim, \"dimensional tensor.\")\n",
        "print(\"This is a\", threeDtensor.ndim, \"dimensional tensor.\")"
      ],
      "metadata": {
        "id": "qrYXqdiVdDOr",
        "colab": {
          "base_uri": "https://localhost:8080/"
        },
        "outputId": "5d3f9d87-340a-415f-a374-c4f0cd22237f"
      },
      "execution_count": 4,
      "outputs": [
        {
          "output_type": "stream",
          "name": "stdout",
          "text": [
            "This is a 0 dimensional tensor.\n",
            "This is a 1 dimensional tensor.\n",
            "This is a 2 dimensional tensor.\n",
            "This is a 3 dimensional tensor.\n"
          ]
        }
      ]
    },
    {
      "cell_type": "markdown",
      "source": [
        "# CASTING TENSORS  \n",
        "Imagine you want to convert a tensor with a datatype of float32 to int32 or int16, let me use the dtype=int32 in the tf.constant function you talk to yourself. Well to break to you the bad news, an error reading \"Cannot convert [2, 5.0, 3, 2, 4] to EagerTensor of dtype int32\" just like shown below.  \n",
        "Don't give up on doing so though, because the tf.cast method comes handy for this as it allows for the conversion of floating point tensors into integer type tensor.   \n",
        "## So let's do this practically"
      ],
      "metadata": {
        "id": "fhqmTPSPxM_I"
      }
    },
    {
      "cell_type": "code",
      "source": [
        "oneDtensor = tf.constant([2, 5., 3, 2, 4], dtype=tf.int32)"
      ],
      "metadata": {
        "colab": {
          "base_uri": "https://localhost:8080/",
          "height": 323
        },
        "id": "Lk0ZiY1Gus6V",
        "outputId": "0a826f9e-1608-4239-e352-9430b8287c13"
      },
      "execution_count": 6,
      "outputs": [
        {
          "output_type": "error",
          "ename": "TypeError",
          "evalue": "ignored",
          "traceback": [
            "\u001b[0;31m---------------------------------------------------------------------------\u001b[0m",
            "\u001b[0;31mTypeError\u001b[0m                                 Traceback (most recent call last)",
            "\u001b[0;32m<ipython-input-6-a68ef02ea4b9>\u001b[0m in \u001b[0;36m<cell line: 1>\u001b[0;34m()\u001b[0m\n\u001b[0;32m----> 1\u001b[0;31m \u001b[0moneDtensor\u001b[0m \u001b[0;34m=\u001b[0m \u001b[0mtf\u001b[0m\u001b[0;34m.\u001b[0m\u001b[0mconstant\u001b[0m\u001b[0;34m(\u001b[0m\u001b[0;34m[\u001b[0m\u001b[0;36m2\u001b[0m\u001b[0;34m,\u001b[0m \u001b[0;36m5.\u001b[0m\u001b[0;34m,\u001b[0m \u001b[0;36m3\u001b[0m\u001b[0;34m,\u001b[0m \u001b[0;36m2\u001b[0m\u001b[0;34m,\u001b[0m \u001b[0;36m4\u001b[0m\u001b[0;34m]\u001b[0m\u001b[0;34m,\u001b[0m \u001b[0mdtype\u001b[0m\u001b[0;34m=\u001b[0m\u001b[0mtf\u001b[0m\u001b[0;34m.\u001b[0m\u001b[0mint32\u001b[0m\u001b[0;34m)\u001b[0m\u001b[0;34m\u001b[0m\u001b[0;34m\u001b[0m\u001b[0m\n\u001b[0m",
            "\u001b[0;32m/usr/local/lib/python3.10/dist-packages/tensorflow/python/framework/constant_op.py\u001b[0m in \u001b[0;36mconstant\u001b[0;34m(value, dtype, shape, name)\u001b[0m\n\u001b[1;32m    265\u001b[0m     \u001b[0mValueError\u001b[0m\u001b[0;34m:\u001b[0m \u001b[0;32mif\u001b[0m \u001b[0mcalled\u001b[0m \u001b[0mon\u001b[0m \u001b[0ma\u001b[0m \u001b[0msymbolic\u001b[0m \u001b[0mtensor\u001b[0m\u001b[0;34m.\u001b[0m\u001b[0;34m\u001b[0m\u001b[0;34m\u001b[0m\u001b[0m\n\u001b[1;32m    266\u001b[0m   \"\"\"\n\u001b[0;32m--> 267\u001b[0;31m   return _constant_impl(value, dtype, shape, name, verify_shape=False,\n\u001b[0m\u001b[1;32m    268\u001b[0m                         allow_broadcast=True)\n\u001b[1;32m    269\u001b[0m \u001b[0;34m\u001b[0m\u001b[0m\n",
            "\u001b[0;32m/usr/local/lib/python3.10/dist-packages/tensorflow/python/framework/constant_op.py\u001b[0m in \u001b[0;36m_constant_impl\u001b[0;34m(value, dtype, shape, name, verify_shape, allow_broadcast)\u001b[0m\n\u001b[1;32m    277\u001b[0m       \u001b[0;32mwith\u001b[0m \u001b[0mtrace\u001b[0m\u001b[0;34m.\u001b[0m\u001b[0mTrace\u001b[0m\u001b[0;34m(\u001b[0m\u001b[0;34m\"tf.constant\"\u001b[0m\u001b[0;34m)\u001b[0m\u001b[0;34m:\u001b[0m\u001b[0;34m\u001b[0m\u001b[0;34m\u001b[0m\u001b[0m\n\u001b[1;32m    278\u001b[0m         \u001b[0;32mreturn\u001b[0m \u001b[0m_constant_eager_impl\u001b[0m\u001b[0;34m(\u001b[0m\u001b[0mctx\u001b[0m\u001b[0;34m,\u001b[0m \u001b[0mvalue\u001b[0m\u001b[0;34m,\u001b[0m \u001b[0mdtype\u001b[0m\u001b[0;34m,\u001b[0m \u001b[0mshape\u001b[0m\u001b[0;34m,\u001b[0m \u001b[0mverify_shape\u001b[0m\u001b[0;34m)\u001b[0m\u001b[0;34m\u001b[0m\u001b[0;34m\u001b[0m\u001b[0m\n\u001b[0;32m--> 279\u001b[0;31m     \u001b[0;32mreturn\u001b[0m \u001b[0m_constant_eager_impl\u001b[0m\u001b[0;34m(\u001b[0m\u001b[0mctx\u001b[0m\u001b[0;34m,\u001b[0m \u001b[0mvalue\u001b[0m\u001b[0;34m,\u001b[0m \u001b[0mdtype\u001b[0m\u001b[0;34m,\u001b[0m \u001b[0mshape\u001b[0m\u001b[0;34m,\u001b[0m \u001b[0mverify_shape\u001b[0m\u001b[0;34m)\u001b[0m\u001b[0;34m\u001b[0m\u001b[0;34m\u001b[0m\u001b[0m\n\u001b[0m\u001b[1;32m    280\u001b[0m \u001b[0;34m\u001b[0m\u001b[0m\n\u001b[1;32m    281\u001b[0m   const_tensor = ops._create_graph_constant(  # pylint: disable=protected-access\n",
            "\u001b[0;32m/usr/local/lib/python3.10/dist-packages/tensorflow/python/framework/constant_op.py\u001b[0m in \u001b[0;36m_constant_eager_impl\u001b[0;34m(ctx, value, dtype, shape, verify_shape)\u001b[0m\n\u001b[1;32m    287\u001b[0m \u001b[0;32mdef\u001b[0m \u001b[0m_constant_eager_impl\u001b[0m\u001b[0;34m(\u001b[0m\u001b[0mctx\u001b[0m\u001b[0;34m,\u001b[0m \u001b[0mvalue\u001b[0m\u001b[0;34m,\u001b[0m \u001b[0mdtype\u001b[0m\u001b[0;34m,\u001b[0m \u001b[0mshape\u001b[0m\u001b[0;34m,\u001b[0m \u001b[0mverify_shape\u001b[0m\u001b[0;34m)\u001b[0m\u001b[0;34m:\u001b[0m\u001b[0;34m\u001b[0m\u001b[0;34m\u001b[0m\u001b[0m\n\u001b[1;32m    288\u001b[0m   \u001b[0;34m\"\"\"Creates a constant on the current device.\"\"\"\u001b[0m\u001b[0;34m\u001b[0m\u001b[0;34m\u001b[0m\u001b[0m\n\u001b[0;32m--> 289\u001b[0;31m   \u001b[0mt\u001b[0m \u001b[0;34m=\u001b[0m \u001b[0mconvert_to_eager_tensor\u001b[0m\u001b[0;34m(\u001b[0m\u001b[0mvalue\u001b[0m\u001b[0;34m,\u001b[0m \u001b[0mctx\u001b[0m\u001b[0;34m,\u001b[0m \u001b[0mdtype\u001b[0m\u001b[0;34m)\u001b[0m\u001b[0;34m\u001b[0m\u001b[0;34m\u001b[0m\u001b[0m\n\u001b[0m\u001b[1;32m    290\u001b[0m   \u001b[0;32mif\u001b[0m \u001b[0mshape\u001b[0m \u001b[0;32mis\u001b[0m \u001b[0;32mNone\u001b[0m\u001b[0;34m:\u001b[0m\u001b[0;34m\u001b[0m\u001b[0;34m\u001b[0m\u001b[0m\n\u001b[1;32m    291\u001b[0m     \u001b[0;32mreturn\u001b[0m \u001b[0mt\u001b[0m\u001b[0;34m\u001b[0m\u001b[0;34m\u001b[0m\u001b[0m\n",
            "\u001b[0;32m/usr/local/lib/python3.10/dist-packages/tensorflow/python/framework/constant_op.py\u001b[0m in \u001b[0;36mconvert_to_eager_tensor\u001b[0;34m(value, ctx, dtype)\u001b[0m\n\u001b[1;32m    100\u001b[0m       \u001b[0mdtype\u001b[0m \u001b[0;34m=\u001b[0m \u001b[0mdtypes\u001b[0m\u001b[0;34m.\u001b[0m\u001b[0mas_dtype\u001b[0m\u001b[0;34m(\u001b[0m\u001b[0mdtype\u001b[0m\u001b[0;34m)\u001b[0m\u001b[0;34m.\u001b[0m\u001b[0mas_datatype_enum\u001b[0m\u001b[0;34m\u001b[0m\u001b[0;34m\u001b[0m\u001b[0m\n\u001b[1;32m    101\u001b[0m   \u001b[0mctx\u001b[0m\u001b[0;34m.\u001b[0m\u001b[0mensure_initialized\u001b[0m\u001b[0;34m(\u001b[0m\u001b[0;34m)\u001b[0m\u001b[0;34m\u001b[0m\u001b[0;34m\u001b[0m\u001b[0m\n\u001b[0;32m--> 102\u001b[0;31m   \u001b[0;32mreturn\u001b[0m \u001b[0mops\u001b[0m\u001b[0;34m.\u001b[0m\u001b[0mEagerTensor\u001b[0m\u001b[0;34m(\u001b[0m\u001b[0mvalue\u001b[0m\u001b[0;34m,\u001b[0m \u001b[0mctx\u001b[0m\u001b[0;34m.\u001b[0m\u001b[0mdevice_name\u001b[0m\u001b[0;34m,\u001b[0m \u001b[0mdtype\u001b[0m\u001b[0;34m)\u001b[0m\u001b[0;34m\u001b[0m\u001b[0;34m\u001b[0m\u001b[0m\n\u001b[0m\u001b[1;32m    103\u001b[0m \u001b[0;34m\u001b[0m\u001b[0m\n\u001b[1;32m    104\u001b[0m \u001b[0;34m\u001b[0m\u001b[0m\n",
            "\u001b[0;31mTypeError\u001b[0m: Cannot convert [2, 5.0, 3, 2, 4] to EagerTensor of dtype int32"
          ]
        }
      ]
    },
    {
      "cell_type": "code",
      "source": [
        "oneDtensor = tf.constant([2, 5., 3, 2, 4], dtype=tf.float32)"
      ],
      "metadata": {
        "id": "NnzVNkq1vjAk"
      },
      "execution_count": 7,
      "outputs": []
    },
    {
      "cell_type": "code",
      "source": [
        "print(oneDtensor)"
      ],
      "metadata": {
        "colab": {
          "base_uri": "https://localhost:8080/"
        },
        "id": "kyvES3Ynv9uy",
        "outputId": "9c3f7297-ed99-49fa-f976-d50d99f701b1"
      },
      "execution_count": 8,
      "outputs": [
        {
          "output_type": "stream",
          "name": "stdout",
          "text": [
            "tf.Tensor([2. 5. 3. 2. 4.], shape=(5,), dtype=float32)\n"
          ]
        }
      ]
    },
    {
      "cell_type": "markdown",
      "source": [
        "## Let's cast our tensor now"
      ],
      "metadata": {
        "id": "XzNfjM_SziSV"
      }
    },
    {
      "cell_type": "code",
      "source": [
        "castOneDtensor = tf.cast(oneDtensor, dtype=tf.int16)"
      ],
      "metadata": {
        "id": "29XEGdWrwAjx"
      },
      "execution_count": 10,
      "outputs": []
    },
    {
      "cell_type": "code",
      "source": [
        "print(castOneDtensor)\n",
        "\n",
        "# Congs, our quest is successfully completed"
      ],
      "metadata": {
        "colab": {
          "base_uri": "https://localhost:8080/"
        },
        "id": "_20PTsDPwPb0",
        "outputId": "86b4aefe-7a3b-46f7-cc59-937d1171339f"
      },
      "execution_count": 12,
      "outputs": [
        {
          "output_type": "stream",
          "name": "stdout",
          "text": [
            "tf.Tensor([2 5 3 2 4], shape=(5,), dtype=int16)\n"
          ]
        }
      ]
    },
    {
      "cell_type": "markdown",
      "source": [
        "# Other tensorflow methods"
      ],
      "metadata": {
        "id": "g2sIoGgn2yRD"
      }
    },
    {
      "cell_type": "code",
      "source": [
        "# Conversion of a numpy array into a tensor\n",
        "np_array = np.array([1, 2, 3])\n",
        "Converted_tensor = tf.convert_to_tensor(np_array)\n",
        "print(Converted_tensor)"
      ],
      "metadata": {
        "colab": {
          "base_uri": "https://localhost:8080/"
        },
        "id": "z-KSWYaIwW3c",
        "outputId": "23756b79-1f1b-421a-abb1-5a781cf5fec7"
      },
      "execution_count": 15,
      "outputs": [
        {
          "output_type": "stream",
          "name": "stdout",
          "text": [
            "tf.Tensor([1 2 3], shape=(3,), dtype=int64)\n"
          ]
        }
      ]
    },
    {
      "cell_type": "code",
      "source": [
        "# let's construct an identity matrix or a batch of matrices\n",
        "eye_tensor = tf.eye(num_rows=3)\n",
        "print(eye_tensor)\n",
        "print(eye_tensor*3)\n",
        "\n",
        "eye_tensor1 = tf.eye(3,\n",
        "                     batch_shape=[5,],\n",
        "                     dtype=tf.dtypes.float32,\n",
        "                     )\n",
        "print(eye_tensor1)"
      ],
      "metadata": {
        "colab": {
          "base_uri": "https://localhost:8080/"
        },
        "id": "pnup_fAo3S62",
        "outputId": "d19807ce-da99-43dd-9727-6cf7787c067b"
      },
      "execution_count": 18,
      "outputs": [
        {
          "output_type": "stream",
          "name": "stdout",
          "text": [
            "tf.Tensor(\n",
            "[[1. 0. 0.]\n",
            " [0. 1. 0.]\n",
            " [0. 0. 1.]], shape=(3, 3), dtype=float32)\n",
            "tf.Tensor(\n",
            "[[3. 0. 0.]\n",
            " [0. 3. 0.]\n",
            " [0. 0. 3.]], shape=(3, 3), dtype=float32)\n",
            "tf.Tensor(\n",
            "[[[1. 0. 0.]\n",
            "  [0. 1. 0.]\n",
            "  [0. 0. 1.]]\n",
            "\n",
            " [[1. 0. 0.]\n",
            "  [0. 1. 0.]\n",
            "  [0. 0. 1.]]\n",
            "\n",
            " [[1. 0. 0.]\n",
            "  [0. 1. 0.]\n",
            "  [0. 0. 1.]]\n",
            "\n",
            " [[1. 0. 0.]\n",
            "  [0. 1. 0.]\n",
            "  [0. 0. 1.]]\n",
            "\n",
            " [[1. 0. 0.]\n",
            "  [0. 1. 0.]\n",
            "  [0. 0. 1.]]], shape=(5, 3, 3), dtype=float32)\n"
          ]
        }
      ]
    },
    {
      "cell_type": "markdown",
      "source": [
        "# <b>Assignment</b>\n",
        "## Look at the following in the tensorflow documentation  \n",
        "- fill method  \n",
        "- ones method\n",
        "- ones_like method\n",
        "- zeros method\n",
        "- shape method\n",
        "- rank method\n",
        "- tf.random.normal\n",
        "- tf.random.uniform\n",
        "- seed method\n",
        "\n",
        "### Please check this link out too\n",
        "[acsu.buffalo.edu/-adamcunn/probability/normal.html](https://acsu.buffalo.edu/-adamcunn/probability/normal.html)"
      ],
      "metadata": {
        "id": "_Xt0sTj56MU_"
      }
    },
    {
      "cell_type": "markdown",
      "source": [
        "# INDEXING"
      ],
      "metadata": {
        "id": "rtIETk6g83pb"
      }
    },
    {
      "cell_type": "code",
      "source": [
        "tensor_indexed = tf.constant([3, 2, 4, 1, 4, 6])\n",
        "print(tensor_indexed)\n",
        "print(tensor_indexed[0:4])\n",
        "print(tensor_indexed[...])\n",
        "\n",
        "tensor_two_d = tf.constant([[1, 2, 3],\n",
        "                            [2, 3, 1],\n",
        "                            [9, 4, 2],\n",
        "                            [3, 3, 1],\n",
        "                            ])\n",
        "print(tensor_two_d[ 0:2, 0:1])\n",
        "print(tensor_two_d[ ..., 0:1])\n",
        "print(tensor_two_d[ 0:2, ...])"
      ],
      "metadata": {
        "colab": {
          "base_uri": "https://localhost:8080/"
        },
        "id": "0JGyEsfT4ChE",
        "outputId": "b0254312-24a1-421b-b354-1ccafbd9b4bf"
      },
      "execution_count": 22,
      "outputs": [
        {
          "output_type": "stream",
          "name": "stdout",
          "text": [
            "tf.Tensor([3 2 4 1 4 6], shape=(6,), dtype=int32)\n",
            "tf.Tensor([3 2 4 1], shape=(4,), dtype=int32)\n",
            "tf.Tensor([3 2 4 1 4 6], shape=(6,), dtype=int32)\n",
            "tf.Tensor(\n",
            "[[1]\n",
            " [2]], shape=(2, 1), dtype=int32)\n",
            "tf.Tensor(\n",
            "[[1]\n",
            " [2]\n",
            " [9]\n",
            " [3]], shape=(4, 1), dtype=int32)\n",
            "tf.Tensor(\n",
            "[[1 2 3]\n",
            " [2 3 1]], shape=(2, 3), dtype=int32)\n"
          ]
        }
      ]
    },
    {
      "cell_type": "markdown",
      "source": [
        "# MATH OPERATIONS"
      ],
      "metadata": {
        "id": "iI9MC1PlAVj2"
      }
    },
    {
      "cell_type": "code",
      "source": [
        "# abs\n",
        "x_abs = tf.constant([-2.25, 3.25])\n",
        "tf.abs(x_abs)"
      ],
      "metadata": {
        "colab": {
          "base_uri": "https://localhost:8080/"
        },
        "id": "iyqdD8CN9YNu",
        "outputId": "b10422fb-5aa4-4b10-c352-0638d5688f98"
      },
      "execution_count": 23,
      "outputs": [
        {
          "output_type": "execute_result",
          "data": {
            "text/plain": [
              "<tf.Tensor: shape=(2,), dtype=float32, numpy=array([2.25, 3.25], dtype=float32)>"
            ]
          },
          "metadata": {},
          "execution_count": 23
        }
      ]
    },
    {
      "cell_type": "code",
      "source": [
        "# addition\n",
        "x_1 = tf.constant([5, 3, 6, 6, 4, 6], dtype=tf.int32)\n",
        "x_2 = tf.constant([7, 6, 2, 6, 7, 11], dtype=tf.int32)\n",
        "print(tf.add(x_1, x_2))\n",
        "print(tf.multiply(x_1, x_2))\n",
        "print(tf.divide(x_1, x_2))"
      ],
      "metadata": {
        "colab": {
          "base_uri": "https://localhost:8080/"
        },
        "id": "3aHJ0SxCAoq-",
        "outputId": "a8267b5f-8101-4d86-dcf3-208e9a466df9"
      },
      "execution_count": 24,
      "outputs": [
        {
          "output_type": "stream",
          "name": "stdout",
          "text": [
            "tf.Tensor([12  9  8 12 11 17], shape=(6,), dtype=int32)\n",
            "tf.Tensor([35 18 12 36 28 66], shape=(6,), dtype=int32)\n",
            "tf.Tensor([0.71428571 0.5        3.         1.         0.57142857 0.54545455], shape=(6,), dtype=float64)\n"
          ]
        }
      ]
    },
    {
      "cell_type": "markdown",
      "source": [
        "# Broadcasting in tensorflow"
      ],
      "metadata": {
        "id": "AtK5AroCBeZE"
      }
    },
    {
      "cell_type": "code",
      "source": [
        "x_3 = tf.constant([7], dtype=tf.int32)\n",
        "print(tf.math.add(x_1, x_3))"
      ],
      "metadata": {
        "colab": {
          "base_uri": "https://localhost:8080/"
        },
        "id": "HIO6zV2TBcCI",
        "outputId": "73cd77cb-c3ac-44fa-e791-3c1ee3112e52"
      },
      "execution_count": 26,
      "outputs": [
        {
          "output_type": "stream",
          "name": "stdout",
          "text": [
            "tf.Tensor([12 10 13 13 11 13], shape=(6,), dtype=int32)\n"
          ]
        }
      ]
    },
    {
      "cell_type": "code",
      "source": [
        "x_argmax = tf.constant([200, 120, 130, 300, 3])\n",
        "print(tf.math.argmax(x_argmax))\n",
        "# the above function is to get index of the the maximum value of the tensor"
      ],
      "metadata": {
        "colab": {
          "base_uri": "https://localhost:8080/"
        },
        "id": "6bq1HDBKBxz5",
        "outputId": "9d2d80ec-b7ee-4456-b00d-6802c0538823"
      },
      "execution_count": 28,
      "outputs": [
        {
          "output_type": "stream",
          "name": "stdout",
          "text": [
            "tf.Tensor(3, shape=(), dtype=int64)\n"
          ]
        }
      ]
    },
    {
      "cell_type": "code",
      "source": [
        "x = tf.constant([[2, 2],\n",
        "                 [3, 3]])\n",
        "\n",
        "y = tf.constant([[3, 0],\n",
        "                 [1, 4]])\n",
        "\n",
        "print(tf.pow(x, y))"
      ],
      "metadata": {
        "colab": {
          "base_uri": "https://localhost:8080/"
        },
        "id": "FHijAmwCCXuD",
        "outputId": "6c6d257d-0fca-4c8e-bade-085bc3bac945"
      },
      "execution_count": 30,
      "outputs": [
        {
          "output_type": "stream",
          "name": "stdout",
          "text": [
            "tf.Tensor(\n",
            "[[ 8  1]\n",
            " [ 3 81]], shape=(2, 2), dtype=int32)\n"
          ]
        }
      ]
    },
    {
      "cell_type": "markdown",
      "source": [
        "### Reduce method"
      ],
      "metadata": {
        "id": "KXvWdPyqDk9v"
      }
    },
    {
      "cell_type": "code",
      "source": [
        "tensor_two_d = tf.constant([[1, -2, 3],\n",
        "                            [3, 2, 2],\n",
        "                            [1, 1, 1],\n",
        "                            [7, 3, 2],\n",
        "                            ])\n",
        "print(tensor_two_d.shape)\n",
        "print(tf.math.reduce_sum(tensor_two_d, axis=1, keepdims=False, name=None))\n",
        "print(tf.math.reduce_sum(tensor_two_d, axis=0, keepdims=False, name=None))"
      ],
      "metadata": {
        "colab": {
          "base_uri": "https://localhost:8080/"
        },
        "id": "Sv8ZiSepCuRn",
        "outputId": "c0791e8d-51ed-40da-80ac-10b7ac21fe34"
      },
      "execution_count": 31,
      "outputs": [
        {
          "output_type": "stream",
          "name": "stdout",
          "text": [
            "(4, 3)\n",
            "tf.Tensor([ 2  7  3 12], shape=(4,), dtype=int32)\n",
            "tf.Tensor([12  4  8], shape=(3,), dtype=int32)\n"
          ]
        }
      ]
    },
    {
      "cell_type": "markdown",
      "source": [
        "### tf.math.sigmoid\n",
        "Formula;  \n",
        "sigmoid(x) => y = 1 / (1 + exp(-x))  "
      ],
      "metadata": {
        "id": "zXOeXZ3hE3qV"
      }
    },
    {
      "cell_type": "code",
      "source": [
        "x = tf.constant([0.0, 1.0, 50.0, 100.0])\n",
        "tf.math.sigmoid(x)"
      ],
      "metadata": {
        "colab": {
          "base_uri": "https://localhost:8080/"
        },
        "id": "wx7Bof2bEnUf",
        "outputId": "46184f58-70e3-48bb-bb7f-dca8d70f5d28"
      },
      "execution_count": 32,
      "outputs": [
        {
          "output_type": "execute_result",
          "data": {
            "text/plain": [
              "<tf.Tensor: shape=(4,), dtype=float32, numpy=array([0.5      , 0.7310586, 1.       , 1.       ], dtype=float32)>"
            ]
          },
          "metadata": {},
          "execution_count": 32
        }
      ]
    },
    {
      "cell_type": "markdown",
      "source": [
        "## tf.math.top_k\n"
      ],
      "metadata": {
        "id": "I1pyEeFlFnEo"
      }
    },
    {
      "cell_type": "code",
      "source": [
        "tf.math.top_k(tensor_two_d, k=2)"
      ],
      "metadata": {
        "colab": {
          "base_uri": "https://localhost:8080/"
        },
        "id": "1nfapSbrFksa",
        "outputId": "5288e68b-e3da-4233-9c3f-d8c5e1ed2658"
      },
      "execution_count": 33,
      "outputs": [
        {
          "output_type": "execute_result",
          "data": {
            "text/plain": [
              "TopKV2(values=<tf.Tensor: shape=(4, 2), dtype=int32, numpy=\n",
              "array([[3, 1],\n",
              "       [3, 2],\n",
              "       [1, 1],\n",
              "       [7, 3]], dtype=int32)>, indices=<tf.Tensor: shape=(4, 2), dtype=int32, numpy=\n",
              "array([[2, 0],\n",
              "       [0, 1],\n",
              "       [0, 1],\n",
              "       [0, 1]], dtype=int32)>)"
            ]
          },
          "metadata": {},
          "execution_count": 33
        }
      ]
    },
    {
      "cell_type": "markdown",
      "source": [
        "# LINEAR ALGEBRA\n",
        "From the tensorflow documentation, it is in the directory named;  \n",
        "- tf.linalg"
      ],
      "metadata": {
        "id": "VwqlQrNQKq0h"
      }
    },
    {
      "cell_type": "code",
      "source": [
        "# matrix multiplication\n",
        "x_1 = tf.constant([[1, 2, 4],\n",
        "                   [3, 2, 4],])\n",
        "x_2 = tf.constant([[1, 3, 2],\n",
        "                   [2, 2, 1],])\n",
        "x_3 = tf.constant([[2, 4, 1],\n",
        "                   [6, 3, 2],\n",
        "                   [4, 5, 6],])\n",
        "\n",
        "print(x_1, x_2, x_3)"
      ],
      "metadata": {
        "colab": {
          "base_uri": "https://localhost:8080/"
        },
        "id": "9yapuERBF6KJ",
        "outputId": "0c55391b-20ea-4190-f932-ebeb466aa7ae"
      },
      "execution_count": 34,
      "outputs": [
        {
          "output_type": "stream",
          "name": "stdout",
          "text": [
            "tf.Tensor(\n",
            "[[1 2 4]\n",
            " [3 2 4]], shape=(2, 3), dtype=int32) tf.Tensor(\n",
            "[[1 3 2]\n",
            " [2 2 1]], shape=(2, 3), dtype=int32) tf.Tensor(\n",
            "[[2 4 1]\n",
            " [6 3 2]\n",
            " [4 5 6]], shape=(3, 3), dtype=int32)\n"
          ]
        }
      ]
    },
    {
      "cell_type": "markdown",
      "source": [
        "We obtain an error when the following cell is run because of the violation of one of the matrix rules which doesn't allow multiplication between two matrices whose number of columns don't match the number of rows  of the matrix being multiplied with.  \n",
        "(x, y) @ (y, z)  \n",
        "the above formula should be followed when carrying out matrix multiplication that is the number of columns, y, should be equal to the number of rows, y, of the matrix being multiplied to it."
      ],
      "metadata": {
        "id": "0JD1wwqjMgdy"
      }
    },
    {
      "cell_type": "code",
      "source": [
        "# matrix multiplication\n",
        "\n",
        "tf.linalg.matmul(\n",
        "    x_1, x_2, transpose_a=False, transpose_b=False, adjoint_a = False, adjoint_b=False,\n",
        "    a_is_sparse=False, b_is_sparse=False, output_type=None, name=None\n",
        ")"
      ],
      "metadata": {
        "id": "5kWRUvdvMWrk",
        "outputId": "2164ffcd-da80-4f17-df2c-5d7a31b45099",
        "colab": {
          "base_uri": "https://localhost:8080/",
          "height": 410
        }
      },
      "execution_count": 35,
      "outputs": [
        {
          "output_type": "error",
          "ename": "InvalidArgumentError",
          "evalue": "ignored",
          "traceback": [
            "\u001b[0;31m---------------------------------------------------------------------------\u001b[0m",
            "\u001b[0;31mInvalidArgumentError\u001b[0m                      Traceback (most recent call last)",
            "\u001b[0;32m<ipython-input-35-1253293d22dd>\u001b[0m in \u001b[0;36m<cell line: 3>\u001b[0;34m()\u001b[0m\n\u001b[1;32m      1\u001b[0m \u001b[0;31m# matrix multiplication\u001b[0m\u001b[0;34m\u001b[0m\u001b[0;34m\u001b[0m\u001b[0m\n\u001b[1;32m      2\u001b[0m \u001b[0;34m\u001b[0m\u001b[0m\n\u001b[0;32m----> 3\u001b[0;31m tf.linalg.matmul(\n\u001b[0m\u001b[1;32m      4\u001b[0m     \u001b[0mx_1\u001b[0m\u001b[0;34m,\u001b[0m \u001b[0mx_2\u001b[0m\u001b[0;34m,\u001b[0m \u001b[0mtranspose_a\u001b[0m\u001b[0;34m=\u001b[0m\u001b[0;32mFalse\u001b[0m\u001b[0;34m,\u001b[0m \u001b[0mtranspose_b\u001b[0m\u001b[0;34m=\u001b[0m\u001b[0;32mFalse\u001b[0m\u001b[0;34m,\u001b[0m \u001b[0madjoint_a\u001b[0m \u001b[0;34m=\u001b[0m \u001b[0;32mFalse\u001b[0m\u001b[0;34m,\u001b[0m \u001b[0madjoint_b\u001b[0m\u001b[0;34m=\u001b[0m\u001b[0;32mFalse\u001b[0m\u001b[0;34m,\u001b[0m\u001b[0;34m\u001b[0m\u001b[0;34m\u001b[0m\u001b[0m\n\u001b[1;32m      5\u001b[0m     \u001b[0ma_is_sparse\u001b[0m\u001b[0;34m=\u001b[0m\u001b[0;32mFalse\u001b[0m\u001b[0;34m,\u001b[0m \u001b[0mb_is_sparse\u001b[0m\u001b[0;34m=\u001b[0m\u001b[0;32mFalse\u001b[0m\u001b[0;34m,\u001b[0m \u001b[0moutput_type\u001b[0m\u001b[0;34m=\u001b[0m\u001b[0;32mNone\u001b[0m\u001b[0;34m,\u001b[0m \u001b[0mname\u001b[0m\u001b[0;34m=\u001b[0m\u001b[0;32mNone\u001b[0m\u001b[0;34m\u001b[0m\u001b[0;34m\u001b[0m\u001b[0m\n",
            "\u001b[0;32m/usr/local/lib/python3.10/dist-packages/tensorflow/python/util/traceback_utils.py\u001b[0m in \u001b[0;36merror_handler\u001b[0;34m(*args, **kwargs)\u001b[0m\n\u001b[1;32m    151\u001b[0m     \u001b[0;32mexcept\u001b[0m \u001b[0mException\u001b[0m \u001b[0;32mas\u001b[0m \u001b[0me\u001b[0m\u001b[0;34m:\u001b[0m\u001b[0;34m\u001b[0m\u001b[0;34m\u001b[0m\u001b[0m\n\u001b[1;32m    152\u001b[0m       \u001b[0mfiltered_tb\u001b[0m \u001b[0;34m=\u001b[0m \u001b[0m_process_traceback_frames\u001b[0m\u001b[0;34m(\u001b[0m\u001b[0me\u001b[0m\u001b[0;34m.\u001b[0m\u001b[0m__traceback__\u001b[0m\u001b[0;34m)\u001b[0m\u001b[0;34m\u001b[0m\u001b[0;34m\u001b[0m\u001b[0m\n\u001b[0;32m--> 153\u001b[0;31m       \u001b[0;32mraise\u001b[0m \u001b[0me\u001b[0m\u001b[0;34m.\u001b[0m\u001b[0mwith_traceback\u001b[0m\u001b[0;34m(\u001b[0m\u001b[0mfiltered_tb\u001b[0m\u001b[0;34m)\u001b[0m \u001b[0;32mfrom\u001b[0m \u001b[0;32mNone\u001b[0m\u001b[0;34m\u001b[0m\u001b[0;34m\u001b[0m\u001b[0m\n\u001b[0m\u001b[1;32m    154\u001b[0m     \u001b[0;32mfinally\u001b[0m\u001b[0;34m:\u001b[0m\u001b[0;34m\u001b[0m\u001b[0;34m\u001b[0m\u001b[0m\n\u001b[1;32m    155\u001b[0m       \u001b[0;32mdel\u001b[0m \u001b[0mfiltered_tb\u001b[0m\u001b[0;34m\u001b[0m\u001b[0;34m\u001b[0m\u001b[0m\n",
            "\u001b[0;32m/usr/local/lib/python3.10/dist-packages/tensorflow/python/framework/ops.py\u001b[0m in \u001b[0;36mraise_from_not_ok_status\u001b[0;34m(e, name)\u001b[0m\n\u001b[1;32m   5886\u001b[0m \u001b[0;32mdef\u001b[0m \u001b[0mraise_from_not_ok_status\u001b[0m\u001b[0;34m(\u001b[0m\u001b[0me\u001b[0m\u001b[0;34m,\u001b[0m \u001b[0mname\u001b[0m\u001b[0;34m)\u001b[0m \u001b[0;34m->\u001b[0m \u001b[0mNoReturn\u001b[0m\u001b[0;34m:\u001b[0m\u001b[0;34m\u001b[0m\u001b[0;34m\u001b[0m\u001b[0m\n\u001b[1;32m   5887\u001b[0m   \u001b[0me\u001b[0m\u001b[0;34m.\u001b[0m\u001b[0mmessage\u001b[0m \u001b[0;34m+=\u001b[0m \u001b[0;34m(\u001b[0m\u001b[0;34m\" name: \"\u001b[0m \u001b[0;34m+\u001b[0m \u001b[0mstr\u001b[0m\u001b[0;34m(\u001b[0m\u001b[0mname\u001b[0m \u001b[0;32mif\u001b[0m \u001b[0mname\u001b[0m \u001b[0;32mis\u001b[0m \u001b[0;32mnot\u001b[0m \u001b[0;32mNone\u001b[0m \u001b[0;32melse\u001b[0m \u001b[0;34m\"\"\u001b[0m\u001b[0;34m)\u001b[0m\u001b[0;34m)\u001b[0m\u001b[0;34m\u001b[0m\u001b[0;34m\u001b[0m\u001b[0m\n\u001b[0;32m-> 5888\u001b[0;31m   \u001b[0;32mraise\u001b[0m \u001b[0mcore\u001b[0m\u001b[0;34m.\u001b[0m\u001b[0m_status_to_exception\u001b[0m\u001b[0;34m(\u001b[0m\u001b[0me\u001b[0m\u001b[0;34m)\u001b[0m \u001b[0;32mfrom\u001b[0m \u001b[0;32mNone\u001b[0m  \u001b[0;31m# pylint: disable=protected-access\u001b[0m\u001b[0;34m\u001b[0m\u001b[0;34m\u001b[0m\u001b[0m\n\u001b[0m\u001b[1;32m   5889\u001b[0m \u001b[0;34m\u001b[0m\u001b[0m\n\u001b[1;32m   5890\u001b[0m \u001b[0;34m\u001b[0m\u001b[0m\n",
            "\u001b[0;31mInvalidArgumentError\u001b[0m: {{function_node __wrapped__MatMul_device_/job:localhost/replica:0/task:0/device:CPU:0}} Matrix size-incompatible: In[0]: [2,3], In[1]: [2,3] [Op:MatMul] name: "
          ]
        }
      ]
    },
    {
      "cell_type": "code",
      "source": [
        "# the correct way of doing it\n",
        "print(x_1 @ x_3)"
      ],
      "metadata": {
        "id": "iP5gFM9QMcot",
        "outputId": "63f504d0-f3e6-4240-d645-97b6639bed2f",
        "colab": {
          "base_uri": "https://localhost:8080/"
        }
      },
      "execution_count": 37,
      "outputs": [
        {
          "output_type": "stream",
          "name": "stdout",
          "text": [
            "tf.Tensor(\n",
            "[[30 30 29]\n",
            " [34 38 31]], shape=(2, 3), dtype=int32)\n"
          ]
        }
      ]
    },
    {
      "cell_type": "code",
      "source": [
        "tensor_two_d = tf.constant([[1, -2, 0],\n",
        "                            [3, 5, 100],\n",
        "                            [1, 5, 6],\n",
        "                            [2, 3, 8]], dtype=tf.float16)\n",
        "tf.linalg.band_part(tensor_two_d, 0, -1)\n",
        "tf.linalg.band_part(tensor_two_d, -1, 0)\n",
        "tf.linalg.band_part(tensor_two_d, 0, 0)"
      ],
      "metadata": {
        "id": "nDdrZq3xNtqS",
        "outputId": "d85a5b04-02b8-4569-a533-14eed1633d5f",
        "colab": {
          "base_uri": "https://localhost:8080/"
        }
      },
      "execution_count": 38,
      "outputs": [
        {
          "output_type": "execute_result",
          "data": {
            "text/plain": [
              "<tf.Tensor: shape=(4, 3), dtype=float16, numpy=\n",
              "array([[1., 0., 0.],\n",
              "       [0., 5., 0.],\n",
              "       [0., 0., 6.],\n",
              "       [0., 0., 0.]], dtype=float16)>"
            ]
          },
          "metadata": {},
          "execution_count": 38
        }
      ]
    },
    {
      "cell_type": "markdown",
      "source": [
        "## Read about the Einsum operator"
      ],
      "metadata": {
        "id": "woul9sUNOrhL"
      }
    },
    {
      "cell_type": "markdown",
      "source": [
        "# Some tensor functions"
      ],
      "metadata": {
        "id": "9QrMz0PNOzB7"
      }
    },
    {
      "cell_type": "code",
      "source": [
        "# expand dims\n",
        "\n",
        "x = tf.constant([2, 3, 4, 5])\n",
        "print(x.shape)\n",
        "print(tf.expand_dims(x, axis=0))\n",
        "\n",
        "# tf.squeeze is the opposite of tf.expand_dims"
      ],
      "metadata": {
        "id": "-t_qysTtOnoo",
        "outputId": "623e552c-973a-4874-bf44-49db2b5a8a32",
        "colab": {
          "base_uri": "https://localhost:8080/"
        }
      },
      "execution_count": 39,
      "outputs": [
        {
          "output_type": "stream",
          "name": "stdout",
          "text": [
            "(4,)\n",
            "tf.Tensor([[2 3 4 5]], shape=(1, 4), dtype=int32)\n"
          ]
        }
      ]
    },
    {
      "cell_type": "code",
      "source": [
        "# padding function\n",
        "t = tf.constant([[1, 2, 3],\n",
        "                 [4, 5, 6]])\n",
        "padding = tf.constant([[1, 1],\n",
        "                       [2, 2]])\n",
        "tf.pad(t, padding, \"CONSTANT\", constant_values=0)"
      ],
      "metadata": {
        "id": "TsFdHONqPZc3",
        "outputId": "5939a20d-941a-4b08-efdf-b4d049b1c327",
        "colab": {
          "base_uri": "https://localhost:8080/"
        }
      },
      "execution_count": 40,
      "outputs": [
        {
          "output_type": "execute_result",
          "data": {
            "text/plain": [
              "<tf.Tensor: shape=(4, 7), dtype=int32, numpy=\n",
              "array([[0, 0, 0, 0, 0, 0, 0],\n",
              "       [0, 0, 1, 2, 3, 0, 0],\n",
              "       [0, 0, 4, 5, 6, 0, 0],\n",
              "       [0, 0, 0, 0, 0, 0, 0]], dtype=int32)>"
            ]
          },
          "metadata": {},
          "execution_count": 40
        }
      ]
    },
    {
      "cell_type": "markdown",
      "source": [
        "# RAGGED TENSORS"
      ],
      "metadata": {
        "id": "Po6HS1ghP35q"
      }
    },
    {
      "cell_type": "code",
      "source": [
        "# tf.ragged function converts non-rectangular matrices to tensors\n",
        "\n",
        "tensor_two_d = [[1, 2, 0],\n",
        "                [3,],\n",
        "                [1, 5, 6, 5, 6],\n",
        "                [2, 3]]\n",
        "tensor_ragged = tf.ragged.constant(tensor_two_d)\n",
        "print(tensor_ragged)"
      ],
      "metadata": {
        "id": "MTJRC2KwP0l2",
        "outputId": "a47073cd-cd8c-4fda-c263-74272008fa3e",
        "colab": {
          "base_uri": "https://localhost:8080/"
        }
      },
      "execution_count": 41,
      "outputs": [
        {
          "output_type": "stream",
          "name": "stdout",
          "text": [
            "<tf.RaggedTensor [[1, 2, 0], [3], [1, 5, 6, 5, 6], [2, 3]]>\n"
          ]
        }
      ]
    },
    {
      "cell_type": "code",
      "source": [],
      "metadata": {
        "id": "o_jvF7aTQgpR"
      },
      "execution_count": null,
      "outputs": []
    }
  ]
}